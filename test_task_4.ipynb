{
 "cells": [
  {
   "cell_type": "markdown",
   "metadata": {},
   "source": [
    "# <center> Finding the ground state energy of a two qubits system via VQE algorithm </center>"
   ]
  },
  {
   "cell_type": "markdown",
   "metadata": {},
   "source": [
    "<div style=\"text-align: justify\" >\n",
    "As it is well-known, the VQE algorithm makes use of the variational principle to approximate the ground state of a given quantum hamiltonian, $H$ <a href = https://www.nature.com/articles/ncomms5213?origin=ppub>[1]</a>. To make a long story short, the variational principle ensures that, given a certain quantum state $|\\psi \\rangle$, it satisfies the following inequivalence (we assume normalized kets):\n",
    "</div>"
   ]
  },
  {
   "cell_type": "markdown",
   "metadata": {},
   "source": [
    "$$\n",
    "\\langle \\psi | H |\\psi \\rangle \\leq E_0 \\ ,\n",
    "$$"
   ]
  },
  {
   "cell_type": "markdown",
   "metadata": {},
   "source": [
    "<div style=\"text-align: justify\">\n",
    "where we denoted with $E_0$ the ground state energy and the equivalence is satisfied if $|\\psi \\rangle$ actually corresponds to ground state of the system.\n",
    "\n",
    "It is immediate to see that the variational principle provides an effective way to estimate the ground state of the system under investigation: by simply taking a <i>set</i> of kets $|\\psi(\\alpha , \\, \\beta , \\, \\dots) \\rangle$, depending on some parameters $(\\alpha , \\, \\beta , \\, \\dots)$, one can find the best approximation to the ground state by simply evaluating the expression $\\langle \\psi (\\alpha , \\, \\beta , \\, \\dots) | H |\\psi (\\alpha , \\, \\beta , \\, \\dots) \\rangle$ and looking for its minimum. Of course, in order to find a good approximation to the ground state, one has to choose properly the ansatz $|\\psi(\\alpha , \\, \\beta , \\, \\dots) \\rangle$.\n",
    "\n",
    "Our goal in this notebook, is to consider some simple $4 \\times 4$ matrices and to give an estimate of their ground state energies, via a VQE algorithm written using Qiskit. The analysis performed in this notebook can be considered as a very small extension to the case of two qubits of the nice analysis of <a href = https://github.com/DavitKhach/quantum-algorithms-tutorials/blob/master/variational_quantum_eigensolver.ipynb>[2]</a>, to which we refer for a more detailed explanation of the basis of the VQE algorithm.\n",
    "</div>"
   ]
  },
  {
   "cell_type": "markdown",
   "metadata": {},
   "source": [
    "Let us start by constructing a first example of matrix to diagonalize. It reads"
   ]
  },
  {
   "cell_type": "markdown",
   "metadata": {},
   "source": [
    "$$\n",
    "   M=\n",
    "  \\left[ {\\begin{array}{cccc}\n",
    "   0 & 0 & 0 & 0 \\\\\n",
    "   0 & -1 & 1 & 0 \\\\\n",
    "   0 & 1 & -1 & 0 \\\\\n",
    "   0 & 0 & 0 & 0 \\\\\n",
    "  \\end{array} } \\right] \\ ,\n",
    "$$\n"
   ]
  },
  {
   "cell_type": "markdown",
   "metadata": {},
   "source": [
    "<div style=\"text-align: justify\">\n",
    "and, to start with, we need to decompose it in terms of tensor products of Pauli operators.\n",
    "Given that the matrix is $4 \\times 4$, it means that can be written as sum of tensor products of two Pauli operators. In other words, it can be viewed as a two-qubits operator.\n",
    "</div>"
   ]
  },
  {
   "cell_type": "markdown",
   "metadata": {},
   "source": [
    "<div style=\"text-align: justify\">\n",
    "Here we put all the packages we need:\n",
    "</div>"
   ]
  },
  {
   "cell_type": "code",
   "execution_count": 1,
   "metadata": {},
   "outputs": [],
   "source": [
    "import numpy as np\n",
    "from random import random\n",
    "from scipy.optimize import minimize\n",
    "from sympy.solvers import solve\n",
    "from sympy import Symbol\n",
    "\n",
    "from qiskit import *\n",
    "from qiskit.aqua.algorithms import ExactEigensolver\n",
    "from qiskit.quantum_info.operators import Operator , Pauli\n",
    "from qiskit.aqua.operators import WeightedPauliOperator"
   ]
  },
  {
   "cell_type": "markdown",
   "metadata": {},
   "source": [
    "<div style=\"text-align: justify\">\n",
    "Let us construct the matrix of the coefficients, as a numpy array:\n",
    "</div>"
   ]
  },
  {
   "cell_type": "code",
   "execution_count": 2,
   "metadata": {},
   "outputs": [],
   "source": [
    "M = np.array([[0. , 0. , 0. , 0.], [0. , -1. , 1. , 0.] , [0. , 1. , -1. , 0.] , [0. , 0. , 0. , 0.]])"
   ]
  },
  {
   "cell_type": "markdown",
   "metadata": {},
   "source": [
    "<div style=\"text-align: justify\">\n",
    "We now define a function which transforms a $4 \\times 4$ matrix to the tensor decomposition in terms of the Pauli operators.\n",
    "</div>"
   ]
  },
  {
   "cell_type": "code",
   "execution_count": 3,
   "metadata": {},
   "outputs": [],
   "source": [
    "def hamiltonian_operator(matrix):\n",
    "    list_labels = []\n",
    "    pauli_operator_list = []\n",
    "    symbols_list = []\n",
    "    equations = []\n",
    "    list_dict = []\n",
    "    unknown_matrix = 0\n",
    "    #these are the building blocks of the Pauli objects we are going to have, like II\n",
    "    pauli_names = ('I','X','Y','Z') \n",
    "    for i in range(0,4):\n",
    "        for j in range(0,4):\n",
    "            #we create the list of the labels\n",
    "            list_labels.append(pauli_names[i] + pauli_names[j])\n",
    "            pauli_operator_list.append(Operator(Pauli(label=pauli_names[i] + pauli_names[j])))\n",
    "    for i in range(0,16):\n",
    "        # we create the list of symbols, which we need to solve the equations below\n",
    "        symbols_list.append(Symbol(list_labels[i]))   \n",
    "    for i in range(0,16):\n",
    "        # we create the matrix containing the various pauli operators and the unknown\n",
    "        unknown_matrix = unknown_matrix + (Symbol(list_labels[i])) * pauli_operator_list[i].data \n",
    "    for i in range(0, 4):\n",
    "        for j in range(0,4):\n",
    "            # we create the list of equations\n",
    "            equations.append(unknown_matrix[i,j] - matrix[i,j]) \n",
    "    sol = solve(equations , symbols_list, manual = True)\n",
    "    # we create the dictionary to give to the WeightedPauliOperator \n",
    "    for i in range(0,16):\n",
    "        list_dict.append({\"coeff\": {\"imag\": 0.0, \"real\": sol[0][i]}, \"label\": list_labels[i]})\n",
    "    pauli_dict = {\n",
    "        'paulis': list_dict\n",
    "    } \n",
    "    return WeightedPauliOperator.from_dict(pauli_dict)"
   ]
  },
  {
   "cell_type": "markdown",
   "metadata": {},
   "source": [
    "<div style=\"text-align: justify\">\n",
    "and we use this function just defined to transform our matrix $M$ in the sum of Pauli operators\n",
    "</div>"
   ]
  },
  {
   "cell_type": "code",
   "execution_count": 4,
   "metadata": {},
   "outputs": [],
   "source": [
    "H = hamiltonian_operator(M)"
   ]
  },
  {
   "cell_type": "markdown",
   "metadata": {},
   "source": [
    "<div style=\"text-align: justify\">\n",
    "For future comparison, we compute the ground state energy via the ExactEigensolver class\n",
    "</div>"
   ]
  },
  {
   "cell_type": "code",
   "execution_count": 5,
   "metadata": {},
   "outputs": [],
   "source": [
    "exact_eigensolver = ExactEigensolver(H)\n",
    "result_ee = exact_eigensolver.run()\n",
    "reference_energy = result_ee['energy']"
   ]
  },
  {
   "cell_type": "markdown",
   "metadata": {},
   "source": [
    "<div style=\"text-align: justify\">\n",
    "As already mentioned, a crucial ingredient in the VQE algorithms is the choice of the ansatz: indeed, it is important to choose an ansatz which includes the ground state or, at least, which can be very close to the true ground state of the system, in order to have a good estimate of the ground state energy.\n",
    "\n",
    "Restricting our attention to the problem under consideration, it is immediate to recognize that the ground state is given by the state\n",
    "</div>"
   ]
  },
  {
   "cell_type": "markdown",
   "metadata": {},
   "source": [
    "$$\n",
    "| \\psi_0 \\rangle = \\frac{1}{\\sqrt 2} \\Bigl( | 10 \\rangle - | 01 \\rangle \\Bigr) \\ ,\n",
    "$$"
   ]
  },
  {
   "cell_type": "markdown",
   "metadata": {},
   "source": [
    "<div style=\"text-align: justify\">\n",
    "where, with the notation $| 10 \\rangle$ we mean the states defined in the basis with definite spin along the $z$-axes.\n",
    "\n",
    "It is immediate to see that to build the ground state via a quantum cirquit starting from the state $| 00 \\rangle$, a Hadamard gate, and a subsequent CNOT gate are necessary, in order to make a superposition and to create the entanglement. Hence, we will work with the following ansatz:\n",
    "</div>"
   ]
  },
  {
   "cell_type": "markdown",
   "metadata": {},
   "source": [
    "$$\n",
    "\\Bigl( R_z (\\alpha) \\, I \\Bigr)\\Bigl( R_x(\\beta) \\, I \\Bigr) CX \\Bigl( HI \\Bigr) \\, | 00 \\rangle \\ ,\n",
    "$$"
   ]
  },
  {
   "cell_type": "markdown",
   "metadata": {},
   "source": [
    "<div style=\"text-align: justify\">\n",
    "where the last two gates determine the relative angle betweent the two qubits. Given this ansatz, we now define a function which, given two parameters, prepares the quantum state associated to the snsatz, together with the two classical bits for the measurements.\n",
    "</div>"
   ]
  },
  {
   "cell_type": "code",
   "execution_count": 6,
   "metadata": {},
   "outputs": [],
   "source": [
    "def quantum_ansatz(param):\n",
    "    circ = QuantumCircuit(2,2)\n",
    "    # Add a H gate on qubit 0, putting this qubit in a superposition.\n",
    "    circ.h(0)\n",
    "    # Add a CX (CNOT) gate on control qubit 0 and target qubit 1, putting\n",
    "    # the qubits in a Bell state and creating then entanglement.\n",
    "    circ.cx(0, 1)\n",
    "    # and now we create the part of the Ansatz controlled by the parameters:\n",
    "    #we do an Rx rotation and an Rz rotation (in this order!)\n",
    "    circ.rx(param[0],0)\n",
    "    circ.rz(param[1],0)\n",
    "    return circ"
   ]
  },
  {
   "cell_type": "markdown",
   "metadata": {},
   "source": [
    "<div style=\"text-align: justify\">\n",
    "Although the Qiskit built-in method .to_dict() allows us to convert our hamiltonian H (which is a WeightedPauliOperator) to a dictionary of this form \n",
    "</div>"
   ]
  },
  {
   "cell_type": "code",
   "execution_count": 7,
   "metadata": {},
   "outputs": [
    {
     "data": {
      "text/plain": [
       "{'paulis': [{'label': 'II', 'coeff': {'real': -0.5, 'imag': 0.0}},\n",
       "  {'label': 'XX', 'coeff': {'real': 0.5, 'imag': 0.0}},\n",
       "  {'label': 'YY', 'coeff': {'real': 0.5, 'imag': 0.0}},\n",
       "  {'label': 'ZZ', 'coeff': {'real': 0.5, 'imag': 0.0}}]}"
      ]
     },
     "execution_count": 7,
     "metadata": {},
     "output_type": "execute_result"
    }
   ],
   "source": [
    "dict_long = H.to_dict()\n",
    "dict_long"
   ]
  },
  {
   "cell_type": "markdown",
   "metadata": {},
   "source": [
    "<div style=\"text-align: justify\">\n",
    "we prefer to prepare a new function to get from H a list of dictionaries, a bit lighter, called pauli_dict \n",
    "</div>"
   ]
  },
  {
   "cell_type": "code",
   "execution_count": 8,
   "metadata": {},
   "outputs": [],
   "source": [
    "def pauli_operator_to_dict(pauli_operator):\n",
    "    \n",
    "    \"\"\"\n",
    "    This function eats our hamiltonian, constructed previously, and converts it to a list of dictionaries:\n",
    "    [{'label': 'II', 'coeff': -0.5},\n",
    " {'label': 'XX', 'coeff': 0.5},\n",
    " {'label': 'YY', 'coeff': 0.5},\n",
    " {'label': 'ZZ', 'coeff': 0.5}].\n",
    "    \"\"\"\n",
    "    \n",
    "    dict_long = pauli_operator.to_dict()\n",
    "    paulis = dict_long['paulis']\n",
    "    paulis_dict = []\n",
    "\n",
    "    for x in paulis:\n",
    "        label = x['label']\n",
    "        coeff = x['coeff']['real']\n",
    "        paulis_dict.append({'label' : label , 'coeff' : coeff})\n",
    "\n",
    "    return paulis_dict\n",
    "pauli_dict = pauli_operator_to_dict(H)"
   ]
  },
  {
   "cell_type": "markdown",
   "metadata": {},
   "source": [
    "<div style=\"text-align: justify\">\n",
    "When working with dictionaries, it is good to have a function which, given a label, returns the value associated to that label or returns $0$ if that label does not exist in the dictionary\n",
    "</div>"
   ]
  },
  {
   "cell_type": "code",
   "execution_count": 9,
   "metadata": {},
   "outputs": [],
   "source": [
    "def get_or_else_zero(d: dict, key: str):\n",
    "    \n",
    "    \"\"\"\n",
    "    Utility for working with dictionaries. If key is missing\n",
    "    than return 0 otherwise the corresponding value.\n",
    "    :param dict: the dictionary.\n",
    "    :param key: key (string) in interest.\n",
    "    :return: 0 or value of corresponding key.\n",
    "    \"\"\"\n",
    "    \n",
    "    value = 0\n",
    "    if key in d:\n",
    "        value = d[key]\n",
    "    return value"
   ]
  },
  {
   "cell_type": "markdown",
   "metadata": {},
   "source": [
    "<div style=\"text-align: justify\">\n",
    "Now, we define a function that, given a circuit, a qubit, and a measurement to do, appends the gate associated with the measurements we are going to do on the qubit and connect the qubit to the corresponding classical bit\n",
    "</div>"
   ]
  },
  {
   "cell_type": "code",
   "execution_count": 10,
   "metadata": {},
   "outputs": [],
   "source": [
    "def measurement_preparation_circuit(circuit, measure : str, qubit):\n",
    "    \n",
    "    \"\"\"\n",
    "    Create the preparation for a measurement: it adds the gates \n",
    "    necessary to convert the circuit to the appropriate \n",
    "    computational basis and connect the qubits with the corresponding classical bits\n",
    "    \"\"\"\n",
    "\n",
    "    if measure == 'Z':\n",
    "        circuit.measure(qubit, qubit)\n",
    "    elif measure == 'X':\n",
    "        circuit.u2(qubit, np.pi, qubit)\n",
    "        circuit.measure(qubit, qubit)\n",
    "    elif measure == 'Y':\n",
    "        circuit.u2(qubit, np.pi/2, qubit)\n",
    "        circuit.measure(qubit, qubit)\n",
    "    \n",
    "    return circuit"
   ]
  },
  {
   "cell_type": "markdown",
   "metadata": {},
   "source": [
    "<div style=\"text-align: justify\">\n",
    "Let us now define the function associated with the quantum part of the algorithm. This function prepares the quantum circuit and performs the quantum experiment associated with a certain measurement. In the case the measurement involves an identity operator on one of the two qubits, we do the measurement on the other qubit only\n",
    "</div>"
   ]
  },
  {
   "cell_type": "code",
   "execution_count": 11,
   "metadata": {},
   "outputs": [],
   "source": [
    "def quantum_module(parameters, measure):\n",
    "    \n",
    "    # we check the presence of identity operators    \n",
    "    if measure == 'II':\n",
    "        return 1 # if both operators are identity there is nothing to measure\n",
    "    elif measure[0] == 'I':\n",
    "        check_identity = 2\n",
    "    elif measure[1] == 'I':\n",
    "        check_identity = 1\n",
    "    else:\n",
    "        check_identity = 0\n",
    "    \n",
    "    # quantum state preparation\n",
    "    circuit = quantum_ansatz(parameters)\n",
    "    \n",
    "    for i in range(0,2):\n",
    "        circuit = measurement_preparation_circuit(circuit, measure[i] , i)\n",
    "    \n",
    "    shots = 2000\n",
    "    backend = BasicAer.get_backend('qasm_simulator')\n",
    "    job = execute(circuit, backend, shots=shots)\n",
    "    result = job.result()\n",
    "    counts = result.get_counts()\n",
    "    \n",
    "    if check_identity == 0:\n",
    "        expectation_value = (get_or_else_zero(counts, '00') + get_or_else_zero(counts, '11')  - get_or_else_zero(counts,'01') -  get_or_else_zero(counts,'10')) / shots\n",
    "    elif check_identity == 2:\n",
    "        expectation_value = (get_or_else_zero(counts, '00') - get_or_else_zero(counts,'10')) / shots\n",
    "    elif check_identity == 1:\n",
    "        expectation_value = (get_or_else_zero(counts, '00') - get_or_else_zero(counts,'01')) / shots\n",
    "    \n",
    "    return expectation_value"
   ]
  },
  {
   "cell_type": "markdown",
   "metadata": {},
   "source": [
    "<div style=\"text-align: justify\">\n",
    "We now define the main function, which sums the results of the measurements perfomed on the various terms of the hamiltonian\n",
    "</div>"
   ]
  },
  {
   "cell_type": "code",
   "execution_count": 12,
   "metadata": {},
   "outputs": [],
   "source": [
    "def vqe(parameters):\n",
    "    \n",
    "    classical_adder = 0\n",
    "        \n",
    "    for i in range(0, len(pauli_dict)):\n",
    "        classical_adder = classical_adder + pauli_dict[i]['coeff'] * quantum_module(parameters, pauli_dict[i]['label'])\n",
    "    \n",
    "    return classical_adder"
   ]
  },
  {
   "cell_type": "markdown",
   "metadata": {},
   "source": [
    "<div style=\"text-align: justify\">\n",
    "and finally, we are ready to compute the ground state with the VQE algorithm. We use two methods: in the first we simply scan all the values of the parameters for our ansatz, in the second we use the minimize() method of scipy.\n",
    "</div>"
   ]
  },
  {
   "cell_type": "code",
   "execution_count": 13,
   "metadata": {},
   "outputs": [
    {
     "name": "stdout",
     "output_type": "stream",
     "text": [
      "The exact ground state energy is: -2.0\n",
      "The estimated ground state energy using the VQE algorithm is: -1.9975\n"
     ]
    }
   ],
   "source": [
    "n_spacing_one = 40\n",
    "n_spacing_two = 40\n",
    "parameters_array_one = np.linspace(0, 2 * np.pi, n_spacing_one)\n",
    "parameters_array_two = np.linspace(0, np.pi, n_spacing_two)\n",
    "sol_list = []\n",
    "\n",
    "for i in range(0 , n_spacing_one):\n",
    "    for j in range(0 , n_spacing_two):\n",
    "        sol_list.append(vqe([parameters_array_one[i] , parameters_array_one[j]]))\n",
    "\n",
    "print('The exact ground state energy is: {}'.format(reference_energy))\n",
    "print('The estimated ground state energy using the VQE algorithm is: {}'.format((sorted(sol_list))[0]))"
   ]
  },
  {
   "cell_type": "code",
   "execution_count": 14,
   "metadata": {},
   "outputs": [
    {
     "name": "stdout",
     "output_type": "stream",
     "text": [
      "The exact ground state energy is: -2.0\n",
      "The estimated ground state energy from VQE algorithm and by minimization method is: -2.0\n"
     ]
    }
   ],
   "source": [
    "parameters_array = np.array([np.pi, np.pi]) # starting point for the parameters\n",
    "tol = 1e-5 # tolerance for the required precision.\n",
    "\n",
    "vqe_result = minimize(vqe, parameters_array, method = 'Powell',tol=tol)\n",
    "print('The exact ground state energy is: {}'.format(reference_energy))\n",
    "print('The estimated ground state energy from VQE algorithm and by minimization method is: {}'.format(vqe_result.fun))"
   ]
  },
  {
   "cell_type": "markdown",
   "metadata": {},
   "source": [
    "<div style=\"text-align: justify\">\n",
    "as we can see, the quality of the approximation is extremely good. This is not surprising, since the ground state falls in the ansatz we used.\n",
    "</div>"
   ]
  },
  {
   "cell_type": "markdown",
   "metadata": {},
   "source": [
    "<div style=\"text-align: justify\">\n",
    "We can generalize a bit our algorithm and consider more general matrices: we keep a matrix with the same structure of non-vanishing coefficients, but we replace the coefficients with random numbers (but we impose the restriction that the matrix is symmetric). We can also add few terms on the main diagonal\n",
    "</div>"
   ]
  },
  {
   "cell_type": "code",
   "execution_count": 15,
   "metadata": {},
   "outputs": [
    {
     "data": {
      "text/plain": [
       "[{'label': 'II', 'coeff': 0.6761974355732028},\n",
       " {'label': 'IZ', 'coeff': 0.09643075333862625},\n",
       " {'label': 'XX', 'coeff': 0.193452587778662},\n",
       " {'label': 'YY', 'coeff': 0.193452587778662},\n",
       " {'label': 'ZI', 'coeff': 0.09643075333862625},\n",
       " {'label': 'ZZ', 'coeff': -0.09643075333862625}]"
      ]
     },
     "execution_count": 15,
     "metadata": {},
     "output_type": "execute_result"
    }
   ],
   "source": [
    "a = random()\n",
    "b = random()\n",
    "\n",
    "M = np.array([[a , 0. , 0 , 0.], [0. , a , b , 0.] , [0 , b , a , 0.] , [0. , 0. , 0. , b]])\n",
    "H = hamiltonian_operator(M)\n",
    "\n",
    "exact_eigensolver = ExactEigensolver(H)\n",
    "result_ee = exact_eigensolver.run()\n",
    "reference_energy = result_ee['energy']\n",
    "\n",
    "pauli_dict = pauli_operator_to_dict(H)\n",
    "pauli_dict"
   ]
  },
  {
   "cell_type": "code",
   "execution_count": 16,
   "metadata": {},
   "outputs": [
    {
     "name": "stdout",
     "output_type": "stream",
     "text": [
      "The exact ground state energy is: 0.38572301335450504\n",
      "The estimated ground state energy using the VQE algorithm is: 0.381385402697571\n"
     ]
    }
   ],
   "source": [
    "n_spacing_one = 40\n",
    "n_spacing_two = 40\n",
    "parameters_array_one = np.linspace(0, 2 * np.pi, n_spacing_one)\n",
    "parameters_array_two = np.linspace(0, np.pi, n_spacing_two)\n",
    "sol_list = []\n",
    "\n",
    "for i in range(0 , n_spacing_one):\n",
    "    for j in range(0 , n_spacing_two):\n",
    "        sol_list.append(vqe([parameters_array_one[i] , parameters_array_one[j]]))\n",
    "\n",
    "print('The exact ground state energy is: {}'.format(reference_energy))\n",
    "print('The estimated ground state energy using the VQE algorithm is: {}'.format((sorted(sol_list))[0]))"
   ]
  },
  {
   "cell_type": "markdown",
   "metadata": {},
   "source": [
    "<div style=\"text-align: justify\">\n",
    "Once again, the approximation is pretty good in finding the ground state energy. However, notice that by taking a slightly more general matrix, our Ansatz for the ground state stops its validity and the approximation to the ground state is very bad.\n",
    "</div>"
   ]
  },
  {
   "cell_type": "code",
   "execution_count": 17,
   "metadata": {},
   "outputs": [
    {
     "data": {
      "text/plain": [
       "[{'label': 'II', 'coeff': 0.374377988110401},\n",
       " {'label': 'XI', 'coeff': 0.3654025704062155},\n",
       " {'label': 'XX', 'coeff': 0.4733816162542325},\n",
       " {'label': 'XZ', 'coeff': 0.3654025704062155},\n",
       " {'label': 'YY', 'coeff': 0.4733816162542325},\n",
       " {'label': 'ZZ', 'coeff': -0.374377988110401}]"
      ]
     },
     "execution_count": 17,
     "metadata": {},
     "output_type": "execute_result"
    }
   ],
   "source": [
    "a = random()\n",
    "b = random()\n",
    "c = random()\n",
    "\n",
    "M = np.array([[0 , 0. , c , 0.], [0. , a , b , 0.] , [c , b , a , 0.] , [0. , 0. , 0. , 0]])\n",
    "H = hamiltonian_operator(M)\n",
    "\n",
    "exact_eigensolver = ExactEigensolver(H)\n",
    "result_ee = exact_eigensolver.run()\n",
    "reference_energy = result_ee['energy']\n",
    "\n",
    "pauli_dict = pauli_operator_to_dict(H)\n",
    "pauli_dict"
   ]
  },
  {
   "cell_type": "code",
   "execution_count": 18,
   "metadata": {},
   "outputs": [
    {
     "name": "stdout",
     "output_type": "stream",
     "text": [
      "The exact ground state energy is: -0.6738697832124032\n",
      "The estimated ground state energy using the VQE algorithm is: -0.2599258073107657\n"
     ]
    }
   ],
   "source": [
    "n_spacing_one = 40\n",
    "n_spacing_two = 40\n",
    "parameters_array_one = np.linspace(0, 2 * np.pi, n_spacing_one)\n",
    "parameters_array_two = np.linspace(0, np.pi, n_spacing_two)\n",
    "sol_list = []\n",
    "\n",
    "for i in range(0 , n_spacing_one):\n",
    "    for j in range(0 , n_spacing_two):\n",
    "        sol_list.append(vqe([parameters_array_one[i] , parameters_array_one[j]]))\n",
    "\n",
    "print('The exact ground state energy is: {}'.format(reference_energy))\n",
    "print('The estimated ground state energy using the VQE algorithm is: {}'.format((sorted(sol_list))[0]))"
   ]
  },
  {
   "cell_type": "markdown",
   "metadata": {},
   "source": [
    "[1] [A. Peruzzo et al., Nature Communications, \"A variational eigenvalue solver on a photonic quantum processor\" (2014).](https://www.nature.com/articles/ncomms5213?origin=ppub)\n",
    "\n",
    "[2] [D. Khachatryan, \"Variational quantum eigensolver\".](https://github.com/DavitKhach/quantum-algorithms-tutorials/blob/master/variational_quantum_eigensolver.ipynb)"
   ]
  }
 ],
 "metadata": {
  "kernelspec": {
   "display_name": "Python (Qiskitenv)",
   "language": "python",
   "name": "qiskitenv"
  },
  "language_info": {
   "codemirror_mode": {
    "name": "ipython",
    "version": 3
   },
   "file_extension": ".py",
   "mimetype": "text/x-python",
   "name": "python",
   "nbconvert_exporter": "python",
   "pygments_lexer": "ipython3",
   "version": "3.7.6"
  }
 },
 "nbformat": 4,
 "nbformat_minor": 4
}
